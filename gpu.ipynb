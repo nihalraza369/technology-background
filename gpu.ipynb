{
  "nbformat": 4,
  "nbformat_minor": 0,
  "metadata": {
    "colab": {
      "provenance": []
    },
    "kernelspec": {
      "name": "python3",
      "display_name": "Python 3"
    },
    "language_info": {
      "name": "python"
    }
  },
  "cells": [
    {
      "cell_type": "markdown",
      "source": [
        "\n",
        "#What is a GPU?\n",
        "\n",
        "#CPU (Central Processing Unit)\n",
        "##Definition:\n",
        "\n",
        "The CPU, or Central Processing Unit, is the primary component of a computer that performs most of the processing inside a computer.\n",
        "\n",
        "##Functions:\n",
        "\n",
        "Executes instructions from programs by performing basic arithmetic, logic, control, and input/output (I/O) operations.\n",
        "Acts as the brain of the computer where most calculations take place.\n",
        "\n",
        "##Components:\n",
        "\n",
        "1: ALU (Arithmetic Logic Unit): Performs arithmetic and logical operations.\n",
        "\n",
        "2: CU (Control Unit): Directs the operation of the processor.\n",
        "\n",
        "3: Registers: Small storage locations within the CPU for holding data temporarily.\n",
        "\n",
        "##Characteristics:\n",
        "\n",
        "1: General-purpose processor capable of handling a wide variety of tasks.\n",
        "\n",
        "2: Handles tasks sequentially.\n",
        "\n",
        "3:Consists of a few cores (usually 2 to 16 in consumer-grade CPUs).\n",
        "\n",
        "##Use Cases:\n",
        "\n",
        "1: Running operating systems.\n",
        "\n",
        "2: Executing applications such as word processors, web browsers, and spreadsheets.\n",
        "\n",
        "#GPU (Graphics Processing Unit)\n",
        "Watch: GPUs are perfect for Algorithms which are conducive to Parallel Processing\n",
        "\n",
        "##Definition:\n",
        "\n",
        "The GPU, or Graphics Processing Unit, is a specialized processor designed to accelerate graphics rendering.\n",
        "##Functions:\n",
        "\n",
        "1: Handles computations related to 3D graphics and image processing.\n",
        "\n",
        "2: Offloads and accelerates complex mathematical calculations, particularly those involving parallel processing.\n",
        "##Components:\n",
        "\n",
        "1: CUDA Cores (NVIDIA) / Stream Processors (AMD): Execute parallel operations on large data sets.\n",
        "\n",
        "2: Memory (VRAM): High-speed memory for storing images and textures.\n",
        "\n",
        "##Characteristics:\n",
        "\n",
        "1: Specialized for tasks that can be parallelized, such as graphics rendering and machine learning computations.\n",
        "\n",
        "2: Contains thousands of smaller, efficient cores designed for handling multiple tasks simultaneously.\n",
        "\n",
        "3: High memory bandwidth to manage large datasets and textures.\n",
        "\n",
        "##Use Cases:\n",
        "\n",
        "1: Rendering 3D graphics in video games.\n",
        "\n",
        "2: Running complex simulations and scientific computations.\n",
        "\n",
        "3: Training machine learning models.\n",
        "\n",
        "4: Video editing and processing.\n",
        "\n",
        "\n"
      ],
      "metadata": {
        "id": "ktOmCYMb90wi"
      }
    },
    {
      "cell_type": "markdown",
      "source": [
        "##Comparison\n",
        "![Screenshot 2025-01-13 235820.png](data:image/png;base64,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)"
      ],
      "metadata": {
        "id": "oh1i9HRSCHJh"
      }
    },
    {
      "cell_type": "markdown",
      "source": [
        "##Summary\n",
        "###CPU:\n",
        " Best for general-purpose computing tasks requiring high performance for individual threads and sequential processing.\n",
        "\n",
        "###GPU:\n",
        " Best for tasks that can be parallelized, such as graphics rendering, scientific simulations, and machine learning training.\n",
        "\n",
        "#The Role of GPUs in the Rise of Agentic AI\n",
        "Graphics Processing Units (GPUs) have been instrumental in the advancement of artificial intelligence (AI), particularly in the development of agentic AI systems. Originally designed for rendering graphics, GPUs possess a parallel processing architecture that enables them to handle multiple operations simultaneously, making them well-suited for the computational demands of AI workloads.\n",
        "\n",
        "###Accelerating AI Training and Inference:\n",
        "\n",
        "The parallel processing capabilities of GPUs allow for the efficient training of complex AI models, including deep neural networks. This efficiency significantly reduces the time required to train models, facilitating rapid experimentation and iteration. For instance, in 2009, the Google Brain team utilized Nvidia GPUs to create deep neural networks capable of machine learning, achieving a 100-fold increase in speed for deep learning systems.\n",
        "\n",
        "###Enabling Agentic AI Systems:\n",
        "\n",
        "Agentic AI refers to systems composed of specialized agents that operate independently, each handling specific tasks. These agents interact with data, systems, and people to complete multistep workflows, enabling more autonomous and dynamic AI applications. The computational power provided by GPUs is essential for processing the complex operations and large datasets that agentic AI systems require, allowing them to function effectively and efficiently.\n",
        "\n",
        "###Facilitating Real-Time Processing:\n",
        "\n",
        "The high throughput of GPUs enables real-time data processing, which is crucial for agentic AI applications that demand immediate responses, such as autonomous vehicles and real-time language translation services. This capability ensures that AI agents can make timely decisions and actions based on current data inputs.\n",
        "\n",
        "###Supporting Large-Scale AI Deployments:\n",
        "\n",
        "The scalability of GPU infrastructure allows for the deployment of extensive AI models across various platforms, from data centers to edge devices. This scalability is vital for agentic AI systems that need to operate across diverse environments and handle varying workloads.\n",
        "\n",
        "In summary, GPUs have played a pivotal role in the rise of agentic AI by providing the necessary computational power to train and deploy sophisticated AI models. Their parallel processing capabilities, efficiency in handling complex computations, and scalability have been fundamental in advancing AI technologies and applications.\n",
        "\n"
      ],
      "metadata": {
        "id": "Xceg4FFVAv-9"
      }
    }
  ]
}